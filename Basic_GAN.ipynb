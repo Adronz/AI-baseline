{
 "cells": [
  {
   "cell_type": "code",
   "execution_count": 440,
   "metadata": {},
   "outputs": [],
   "source": [
    "import numpy as np \n",
    "import torch \n",
    "import torch.nn as nn\n",
    "import torch.nn.functional as F\n",
    "from torchvision import datasets, transforms\n",
    "import csv\n",
    "import math\n",
    "import struct\n",
    "%matplotlib inline\n",
    "import random\n",
    "import matplotlib.pyplot as plt\n",
    "import struct\n",
    "from array import array\n",
    "from os.path  import join\n"
   ]
  },
  {
   "cell_type": "code",
   "execution_count": 441,
   "metadata": {},
   "outputs": [],
   "source": [
    "\n",
    "# Define the transformation to convert the images to tensor\n",
    "transform = transforms.Compose([transforms.ToTensor()])\n",
    "\n",
    "# Download and load the MNIST training dataset\n",
    "train_dataset = datasets.MNIST(root='./data', train=True, download=True, transform=transform)\n",
    "\n",
    "# Download and load the MNIST test dataset\n",
    "test_dataset = datasets.MNIST(root='./data', train=False, download=True, transform=transform)\n",
    "\n",
    "# DataLoader can be used to create batches of tensors\n",
    "train_loader = torch.utils.data.DataLoader(dataset=train_dataset, batch_size=64, shuffle=True)\n",
    "test_loader = torch.utils.data.DataLoader(dataset=test_dataset, batch_size=64, shuffle=False)"
   ]
  },
  {
   "cell_type": "code",
   "execution_count": 442,
   "metadata": {},
   "outputs": [],
   "source": [
    "class Generator(nn.Module):\n",
    "    def __init__(self, input_dim, hid_dim, image_dim):\n",
    "        super().__init__()\n",
    "\n",
    "        #simple feed forward generator with ReLU and sigmoid activation functions\n",
    "        self.fc_input = nn.Linear(input_dim, hid_dim)\n",
    "        self.fc_hid1 = nn.Linear(hid_dim, hid_dim)\n",
    "        self.fc_hid2 = nn.Linear(hid_dim, hid_dim)\n",
    "        self.fc_out = nn.Linear(hid_dim, image_dim)\n",
    "        self.act = nn.LeakyReLU(0.2)\n",
    "        self.sigmoid = nn.Sigmoid()\n",
    "        self.hid_BN = nn.BatchNorm1d(hid_dim)\n",
    "        \n",
    "    def forward(self, x):\n",
    "        batch_size = x.shape[0]\n",
    "        x = x.view(batch_size, -1)\n",
    "\n",
    "        out = self.fc_input(x)\n",
    "        out = self.hid_BN(out)\n",
    "        out = self.act(out)\n",
    "        out = self.fc_hid1(out)\n",
    "        out = self.hid_BN(out)\n",
    "        out = self.act(out)\n",
    "        out = self.fc_hid2(out)\n",
    "        out = self.hid_BN(out)\n",
    "        out = self.act(out)\n",
    "        out = self.fc_out(out)\n",
    "        out = self.sigmoid(out) #forces output to be between [0,1]\n",
    "\n",
    "        return out\n",
    "    \n",
    "    #generator loss fxn\n",
    "    def loss_function(self, D_g, epoch):\n",
    "        epsilon = 1e-8\n",
    "                #minimize the correctness of the generator \n",
    "        # loss = -torch.mean(torch.log(D_g + epsilon))\n",
    "    \n",
    "        # loss = torch.mean(torch.log(1 - D_g + epsilon))\n",
    "\n",
    "        #* CHANGE TO BCELOSS\n",
    "        fake_target = torch.ones_like(D_g) * 0.95\n",
    "        loss = F.binary_cross_entropy(D_g, fake_target)\n",
    "\n",
    "        return loss\n",
    "    \n",
    "\n",
    "class Discriminator  (nn.Module):\n",
    "    def __init__(self, image_dim, hid_dim, output_dim= 1):\n",
    "        super().__init__()\n",
    "\n",
    "        #simple feed forward network discriminator with dropout\n",
    "        self.fc_input = nn.Linear(image_dim, hid_dim)\n",
    "        self.fc_hid1 = nn.Linear(hid_dim, hid_dim)\n",
    "        self.fc_hid2 = nn.Linear(hid_dim, hid_dim)\n",
    "        self.fc_out = nn.Linear(hid_dim, output_dim)\n",
    "\n",
    "        self.act = nn.LeakyReLU(0.2)\n",
    "        self.sigmoid = nn.Sigmoid()\n",
    "        self.dropout = nn.Dropout(p=0.3)\n",
    "\n",
    "    def forward(self, x):\n",
    "        batch_size = x.shape[0]\n",
    "        x = x.view(batch_size, -1)\n",
    "\n",
    "        out = self.act(self.fc_input(x))\n",
    "        out = self.dropout(out)\n",
    "        out = self.act(self.fc_hid1(out))\n",
    "        out = self.dropout(out)\n",
    "        out = self.act(self.fc_hid2(out))\n",
    "        out = self.dropout(out)\n",
    "        out = self.sigmoid(self.fc_out(out))\n",
    "\n",
    "        return out\n",
    "    \n",
    "\n",
    "    #discriminator loss fxn\n",
    "\n",
    "    def loss_function(self, D_g, D_x):\n",
    "        epsilon = 1e-8\n",
    "\n",
    "        #maximize the probability that the data is real\n",
    "        # loss = -torch.mean(torch.log(D_x + epsilon) + torch.log(1 - D_g + epsilon)) #negative sign because we are doing gradient ASCENT\n",
    "\n",
    "        #*CHANGING TO BCE LOSS\n",
    "        fake_target = torch.zeros_like(D_g) + 0.05\n",
    "        real_target = torch.ones_like(D_x) * 0.95\n",
    "\n",
    "        fake_loss = F.binary_cross_entropy(D_g, fake_target) #we want D_g to go to zero\n",
    "        real_loss = F.binary_cross_entropy(D_x, real_target) #we want D_x to go to one\n",
    "\n",
    "        loss = fake_loss + real_loss\n",
    "\n",
    "        return loss \n",
    "\n",
    "INPUT_DIM = 100\n",
    "GEN_HIDDEN_DIM = 400\n",
    "DISC_HIDDEN_DIM = 300\n",
    "IMAGE_DIM = 28*28\n",
    "\n",
    "\n",
    "generator = Generator(INPUT_DIM, GEN_HIDDEN_DIM, IMAGE_DIM)\n",
    "discriminator = Discriminator(IMAGE_DIM, DISC_HIDDEN_DIM)"
   ]
  },
  {
   "cell_type": "code",
   "execution_count": 443,
   "metadata": {},
   "outputs": [],
   "source": [
    "from torch.optim.lr_scheduler import StepLR\n",
    "\n",
    "\n",
    "disc_lr = 1e-3\n",
    "gen_lr = 1e-4\n",
    "\n",
    "gen_optimizer = torch.optim.Adam(generator.parameters(), lr= gen_lr)\n",
    "disc_optimizer = torch.optim.Adam(discriminator.parameters(), lr= disc_lr)\n",
    "\n",
    "\n",
    "# scheduler_G = StepLR(gen_optimizer, step_size=30, gamma=0.1)\n",
    "# scheduler_D = StepLR(disc_optimizer, step_size=10, gamma=0.1)\n",
    "\n",
    "gen_trn_loss = []\n",
    "disc_trn_loss = []\n",
    "gen_val_loss = []\n",
    "disc_val_loss = [] "
   ]
  },
  {
   "cell_type": "code",
   "execution_count": 411,
   "metadata": {},
   "outputs": [
    {
     "name": "stdout",
     "output_type": "stream",
     "text": [
      "EPOCH 1/15: Disc train loss: 1.2405, Gen train loss: 8.5059 \n",
      "EPOCH 2/15: Disc train loss: 1.2399, Gen train loss: 8.4927 \n",
      "EPOCH 3/15: Disc train loss: 1.2455, Gen train loss: 8.4926 \n"
     ]
    },
    {
     "ename": "KeyboardInterrupt",
     "evalue": "",
     "output_type": "error",
     "traceback": [
      "\u001b[0;31m---------------------------------------------------------------------------\u001b[0m",
      "\u001b[0;31mKeyboardInterrupt\u001b[0m                         Traceback (most recent call last)",
      "Cell \u001b[0;32mIn[411], line 36\u001b[0m\n\u001b[1;32m     32\u001b[0m disc_loss \u001b[38;5;241m=\u001b[39m discriminator\u001b[38;5;241m.\u001b[39mloss_function(fake_prob, real_prob) \n\u001b[1;32m     33\u001b[0m gen_loss \u001b[38;5;241m=\u001b[39m generator\u001b[38;5;241m.\u001b[39mloss_function(fake_prob, epoch)\n\u001b[0;32m---> 36\u001b[0m \u001b[43mdisc_loss\u001b[49m\u001b[38;5;241;43m.\u001b[39;49m\u001b[43mbackward\u001b[49m\u001b[43m(\u001b[49m\u001b[43m)\u001b[49m\n\u001b[1;32m     37\u001b[0m disc_optimizer\u001b[38;5;241m.\u001b[39mstep()\n\u001b[1;32m     40\u001b[0m \u001b[38;5;28;01mif\u001b[39;00m batch_idx \u001b[38;5;241m%\u001b[39m k \u001b[38;5;241m==\u001b[39m \u001b[38;5;241m0\u001b[39m:\n",
      "File \u001b[0;32m~/anaconda3/envs/ML/lib/python3.12/site-packages/torch/_tensor.py:525\u001b[0m, in \u001b[0;36mTensor.backward\u001b[0;34m(self, gradient, retain_graph, create_graph, inputs)\u001b[0m\n\u001b[1;32m    515\u001b[0m \u001b[38;5;28;01mif\u001b[39;00m has_torch_function_unary(\u001b[38;5;28mself\u001b[39m):\n\u001b[1;32m    516\u001b[0m     \u001b[38;5;28;01mreturn\u001b[39;00m handle_torch_function(\n\u001b[1;32m    517\u001b[0m         Tensor\u001b[38;5;241m.\u001b[39mbackward,\n\u001b[1;32m    518\u001b[0m         (\u001b[38;5;28mself\u001b[39m,),\n\u001b[0;32m   (...)\u001b[0m\n\u001b[1;32m    523\u001b[0m         inputs\u001b[38;5;241m=\u001b[39minputs,\n\u001b[1;32m    524\u001b[0m     )\n\u001b[0;32m--> 525\u001b[0m \u001b[43mtorch\u001b[49m\u001b[38;5;241;43m.\u001b[39;49m\u001b[43mautograd\u001b[49m\u001b[38;5;241;43m.\u001b[39;49m\u001b[43mbackward\u001b[49m\u001b[43m(\u001b[49m\n\u001b[1;32m    526\u001b[0m \u001b[43m    \u001b[49m\u001b[38;5;28;43mself\u001b[39;49m\u001b[43m,\u001b[49m\u001b[43m \u001b[49m\u001b[43mgradient\u001b[49m\u001b[43m,\u001b[49m\u001b[43m \u001b[49m\u001b[43mretain_graph\u001b[49m\u001b[43m,\u001b[49m\u001b[43m \u001b[49m\u001b[43mcreate_graph\u001b[49m\u001b[43m,\u001b[49m\u001b[43m \u001b[49m\u001b[43minputs\u001b[49m\u001b[38;5;241;43m=\u001b[39;49m\u001b[43minputs\u001b[49m\n\u001b[1;32m    527\u001b[0m \u001b[43m\u001b[49m\u001b[43m)\u001b[49m\n",
      "File \u001b[0;32m~/anaconda3/envs/ML/lib/python3.12/site-packages/torch/autograd/__init__.py:267\u001b[0m, in \u001b[0;36mbackward\u001b[0;34m(tensors, grad_tensors, retain_graph, create_graph, grad_variables, inputs)\u001b[0m\n\u001b[1;32m    262\u001b[0m     retain_graph \u001b[38;5;241m=\u001b[39m create_graph\n\u001b[1;32m    264\u001b[0m \u001b[38;5;66;03m# The reason we repeat the same comment below is that\u001b[39;00m\n\u001b[1;32m    265\u001b[0m \u001b[38;5;66;03m# some Python versions print out the first line of a multi-line function\u001b[39;00m\n\u001b[1;32m    266\u001b[0m \u001b[38;5;66;03m# calls in the traceback and some print out the last line\u001b[39;00m\n\u001b[0;32m--> 267\u001b[0m \u001b[43m_engine_run_backward\u001b[49m\u001b[43m(\u001b[49m\n\u001b[1;32m    268\u001b[0m \u001b[43m    \u001b[49m\u001b[43mtensors\u001b[49m\u001b[43m,\u001b[49m\n\u001b[1;32m    269\u001b[0m \u001b[43m    \u001b[49m\u001b[43mgrad_tensors_\u001b[49m\u001b[43m,\u001b[49m\n\u001b[1;32m    270\u001b[0m \u001b[43m    \u001b[49m\u001b[43mretain_graph\u001b[49m\u001b[43m,\u001b[49m\n\u001b[1;32m    271\u001b[0m \u001b[43m    \u001b[49m\u001b[43mcreate_graph\u001b[49m\u001b[43m,\u001b[49m\n\u001b[1;32m    272\u001b[0m \u001b[43m    \u001b[49m\u001b[43minputs\u001b[49m\u001b[43m,\u001b[49m\n\u001b[1;32m    273\u001b[0m \u001b[43m    \u001b[49m\u001b[43mallow_unreachable\u001b[49m\u001b[38;5;241;43m=\u001b[39;49m\u001b[38;5;28;43;01mTrue\u001b[39;49;00m\u001b[43m,\u001b[49m\n\u001b[1;32m    274\u001b[0m \u001b[43m    \u001b[49m\u001b[43maccumulate_grad\u001b[49m\u001b[38;5;241;43m=\u001b[39;49m\u001b[38;5;28;43;01mTrue\u001b[39;49;00m\u001b[43m,\u001b[49m\n\u001b[1;32m    275\u001b[0m \u001b[43m\u001b[49m\u001b[43m)\u001b[49m\n",
      "File \u001b[0;32m~/anaconda3/envs/ML/lib/python3.12/site-packages/torch/autograd/graph.py:744\u001b[0m, in \u001b[0;36m_engine_run_backward\u001b[0;34m(t_outputs, *args, **kwargs)\u001b[0m\n\u001b[1;32m    742\u001b[0m     unregister_hooks \u001b[38;5;241m=\u001b[39m _register_logging_hooks_on_whole_graph(t_outputs)\n\u001b[1;32m    743\u001b[0m \u001b[38;5;28;01mtry\u001b[39;00m:\n\u001b[0;32m--> 744\u001b[0m     \u001b[38;5;28;01mreturn\u001b[39;00m \u001b[43mVariable\u001b[49m\u001b[38;5;241;43m.\u001b[39;49m\u001b[43m_execution_engine\u001b[49m\u001b[38;5;241;43m.\u001b[39;49m\u001b[43mrun_backward\u001b[49m\u001b[43m(\u001b[49m\u001b[43m  \u001b[49m\u001b[38;5;66;43;03m# Calls into the C++ engine to run the backward pass\u001b[39;49;00m\n\u001b[1;32m    745\u001b[0m \u001b[43m        \u001b[49m\u001b[43mt_outputs\u001b[49m\u001b[43m,\u001b[49m\u001b[43m \u001b[49m\u001b[38;5;241;43m*\u001b[39;49m\u001b[43margs\u001b[49m\u001b[43m,\u001b[49m\u001b[43m \u001b[49m\u001b[38;5;241;43m*\u001b[39;49m\u001b[38;5;241;43m*\u001b[39;49m\u001b[43mkwargs\u001b[49m\n\u001b[1;32m    746\u001b[0m \u001b[43m    \u001b[49m\u001b[43m)\u001b[49m  \u001b[38;5;66;03m# Calls into the C++ engine to run the backward pass\u001b[39;00m\n\u001b[1;32m    747\u001b[0m \u001b[38;5;28;01mfinally\u001b[39;00m:\n\u001b[1;32m    748\u001b[0m     \u001b[38;5;28;01mif\u001b[39;00m attach_logging_hooks:\n",
      "\u001b[0;31mKeyboardInterrupt\u001b[0m: "
     ]
    }
   ],
   "source": [
    "EPOCHS = 15\n",
    "k = 3\n",
    "\n",
    "#! CHANGE TO DCGAN \n",
    "\n",
    "\n",
    "\n",
    "for epoch in range(EPOCHS):\n",
    "    gen_trn_run = 0.0\n",
    "    disc_trn_run = 0.0\n",
    "    gen_val_run = 0.0\n",
    "    disc_val_run = 0.0\n",
    "\n",
    "    for i in range(k):\n",
    "        for batch_idx, (train_data, train_target) in enumerate(train_loader):\n",
    "            discriminator.train()\n",
    "            generator.train()\n",
    "            gen_optimizer.zero_grad()  \n",
    "\n",
    "            disc_optimizer.zero_grad()\n",
    "\n",
    "            batch_size = train_data.shape[0]\n",
    "\n",
    "            real_data = train_data.view(batch_size, -1)\n",
    "\n",
    "            noise = torch.randn(batch_size, INPUT_DIM)\n",
    "            fake_data = generator(noise)\n",
    "\n",
    "            real_prob = discriminator(real_data)\n",
    "            fake_prob = discriminator(fake_data)\n",
    "\n",
    "            disc_loss = discriminator.loss_function(fake_prob, real_prob) \n",
    "            gen_loss = generator.loss_function(fake_prob, epoch)\n",
    "\n",
    "\n",
    "            disc_loss.backward()\n",
    "            disc_optimizer.step()\n",
    "\n",
    "            \n",
    "            if batch_idx % k == 0:\n",
    "                noise = torch.randn(batch_size, INPUT_DIM)\n",
    "                fake_data = generator(noise)\n",
    "                real_prob = discriminator(real_data)\n",
    "                fake_prob = discriminator(fake_data)\n",
    "                gen_loss = generator.loss_function(fake_prob, epoch)\n",
    "\n",
    "                gen_loss.backward()\n",
    "                gen_optimizer.step()\n",
    "\n",
    "            disc_trn_run += disc_loss.item()\n",
    "            gen_trn_run += gen_loss.item()\n",
    "\n",
    "\n",
    "    \n",
    "    gen_trn_loss.append(gen_trn_run)\n",
    "    disc_trn_loss.append(disc_trn_run)\n",
    "\n",
    "    print(f\"EPOCH {epoch + 1}/{EPOCHS}: Disc train loss: {disc_trn_run / len(train_loader):.4f}, Gen train loss: {gen_trn_run / len(train_loader):.4f} \")\n"
   ]
  },
  {
   "cell_type": "code",
   "execution_count": 412,
   "metadata": {},
   "outputs": [
    {
     "data": {
      "image/png": "[encoded data removed]",
      "text/plain": [
       "<Figure size 640x480 with 1 Axes>"
      ]
     },
     "metadata": {},
     "output_type": "display_data"
    }
   ],
   "source": [
    "plt.figure()\n",
    "plt.yscale('log')\n",
    "epochs = range(1, len(gen_trn_loss)+ 1)   # Assuming one loss value per epoch\n",
    "\n",
    "# Plotting the training and validation loss\n",
    "plt.plot(epochs, gen_trn_loss, label='generator Loss')\n",
    "# plt.plot(epochs, disc_trn_loss, label='discriminator Loss')\n",
    "\n",
    "# Adding labels and title\n",
    "plt.xlabel('Epochs')\n",
    "plt.ylabel('Loss')\n",
    "plt.title('GAN Loss')\n",
    "plt.legend()\n",
    "\n",
    "# Display the plot\n",
    "plt.show()"
   ]
  },
  {
   "cell_type": "code",
   "execution_count": 437,
   "metadata": {},
   "outputs": [
    {
     "name": "stdout",
     "output_type": "stream",
     "text": [
      "torch.Size([64, 784])\n"
     ]
    },
    {
     "data": {
      "text/plain": [
       "<matplotlib.image.AxesImage at 0x1a285ade0>"
      ]
     },
     "execution_count": 437,
     "metadata": {},
     "output_type": "execute_result"
    },
    {
     "data": {
      "image/png": "[encoded data removed]",
      "text/plain": [
       "<Figure size 640x480 with 1 Axes>"
      ]
     },
     "metadata": {},
     "output_type": "display_data"
    }
   ],
   "source": [
    "discriminator.eval()\n",
    "generator.eval()\n",
    "\n",
    "batch_size = 64\n",
    "\n",
    "noise = torch.randn(batch_size, INPUT_DIM)\n",
    "with torch.no_grad():\n",
    "    logits = generator(noise)\n",
    "print(logits.shape)\n",
    "logits = logits.view(batch_size,28,28)\n",
    "\n",
    "plt.imshow(logits[20])"
   ]
  },
  {
   "cell_type": "code",
   "execution_count": null,
   "metadata": {},
   "outputs": [],
   "source": []
  }
 ],
 "metadata": {
  "kernelspec": {
   "display_name": "ML",
   "language": "python",
   "name": "python3"
  },
  "language_info": {
   "codemirror_mode": {
    "name": "ipython",
    "version": 3
   },
   "file_extension": ".py",
   "mimetype": "text/x-python",
   "name": "python",
   "nbconvert_exporter": "python",
   "pygments_lexer": "ipython3",
   "version": "3.12.7"
  }
 },
 "nbformat": 4,
 "nbformat_minor": 2
}
