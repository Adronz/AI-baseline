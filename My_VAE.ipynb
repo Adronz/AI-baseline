{
 "cells": [
  {
   "cell_type": "code",
   "execution_count": 1,
   "metadata": {},
   "outputs": [],
   "source": [
    "import numpy as np \n",
    "import torch \n",
    "import torch.nn as nn\n",
    "import torch.nn.functional as F\n",
    "from torchvision import datasets, transforms\n",
    "import csv\n",
    "import math\n",
    "import struct\n",
    "%matplotlib inline\n",
    "import random\n",
    "import matplotlib.pyplot as plt\n",
    "import struct\n",
    "from array import array\n",
    "from os.path  import join\n"
   ]
  },
  {
   "cell_type": "code",
   "execution_count": 2,
   "metadata": {},
   "outputs": [
    {
     "name": "stdout",
     "output_type": "stream",
     "text": [
      "Downloading http://yann.lecun.com/exdb/mnist/train-images-idx3-ubyte.gz\n",
      "Failed to download (trying next):\n",
      "<urlopen error [SSL: CERTIFICATE_VERIFY_FAILED] certificate verify failed: certificate has expired (_ssl.c:1000)>\n",
      "\n",
      "Downloading https://ossci-datasets.s3.amazonaws.com/mnist/train-images-idx3-ubyte.gz\n",
      "Downloading https://ossci-datasets.s3.amazonaws.com/mnist/train-images-idx3-ubyte.gz to ./data/MNIST/raw/train-images-idx3-ubyte.gz\n"
     ]
    },
    {
     "name": "stderr",
     "output_type": "stream",
     "text": [
      "100%|██████████| 9912422/9912422 [00:00<00:00, 33370344.08it/s]\n"
     ]
    },
    {
     "name": "stdout",
     "output_type": "stream",
     "text": [
      "Extracting ./data/MNIST/raw/train-images-idx3-ubyte.gz to ./data/MNIST/raw\n",
      "\n",
      "Downloading http://yann.lecun.com/exdb/mnist/train-labels-idx1-ubyte.gz\n",
      "Failed to download (trying next):\n",
      "<urlopen error [SSL: CERTIFICATE_VERIFY_FAILED] certificate verify failed: certificate has expired (_ssl.c:1000)>\n",
      "\n",
      "Downloading https://ossci-datasets.s3.amazonaws.com/mnist/train-labels-idx1-ubyte.gz\n",
      "Downloading https://ossci-datasets.s3.amazonaws.com/mnist/train-labels-idx1-ubyte.gz to ./data/MNIST/raw/train-labels-idx1-ubyte.gz\n"
     ]
    },
    {
     "name": "stderr",
     "output_type": "stream",
     "text": [
      "100%|██████████| 28881/28881 [00:00<00:00, 1114578.12it/s]\n"
     ]
    },
    {
     "name": "stdout",
     "output_type": "stream",
     "text": [
      "Extracting ./data/MNIST/raw/train-labels-idx1-ubyte.gz to ./data/MNIST/raw\n",
      "\n",
      "Downloading http://yann.lecun.com/exdb/mnist/t10k-images-idx3-ubyte.gz\n",
      "Failed to download (trying next):\n",
      "<urlopen error [SSL: CERTIFICATE_VERIFY_FAILED] certificate verify failed: certificate has expired (_ssl.c:1000)>\n",
      "\n",
      "Downloading https://ossci-datasets.s3.amazonaws.com/mnist/t10k-images-idx3-ubyte.gz\n",
      "Downloading https://ossci-datasets.s3.amazonaws.com/mnist/t10k-images-idx3-ubyte.gz to ./data/MNIST/raw/t10k-images-idx3-ubyte.gz\n"
     ]
    },
    {
     "name": "stderr",
     "output_type": "stream",
     "text": [
      "100%|██████████| 1648877/1648877 [00:00<00:00, 8363738.10it/s]\n"
     ]
    },
    {
     "name": "stdout",
     "output_type": "stream",
     "text": [
      "Extracting ./data/MNIST/raw/t10k-images-idx3-ubyte.gz to ./data/MNIST/raw\n",
      "\n",
      "Downloading http://yann.lecun.com/exdb/mnist/t10k-labels-idx1-ubyte.gz\n",
      "Failed to download (trying next):\n",
      "<urlopen error [SSL: CERTIFICATE_VERIFY_FAILED] certificate verify failed: certificate has expired (_ssl.c:1000)>\n",
      "\n",
      "Downloading https://ossci-datasets.s3.amazonaws.com/mnist/t10k-labels-idx1-ubyte.gz\n",
      "Downloading https://ossci-datasets.s3.amazonaws.com/mnist/t10k-labels-idx1-ubyte.gz to ./data/MNIST/raw/t10k-labels-idx1-ubyte.gz\n"
     ]
    },
    {
     "name": "stderr",
     "output_type": "stream",
     "text": [
      "100%|██████████| 4542/4542 [00:00<00:00, 6256331.29it/s]"
     ]
    },
    {
     "name": "stdout",
     "output_type": "stream",
     "text": [
      "Extracting ./data/MNIST/raw/t10k-labels-idx1-ubyte.gz to ./data/MNIST/raw\n",
      "\n"
     ]
    },
    {
     "name": "stderr",
     "output_type": "stream",
     "text": [
      "\n"
     ]
    }
   ],
   "source": [
    "\n",
    "# Define the transformation to convert the images to tensor\n",
    "transform = transforms.Compose([transforms.ToTensor()])\n",
    "\n",
    "# Download and load the MNIST training dataset\n",
    "train_dataset = datasets.MNIST(root='./data', train=True, download=True, transform=transform)\n",
    "\n",
    "# Download and load the MNIST test dataset\n",
    "test_dataset = datasets.MNIST(root='./data', train=False, download=True, transform=transform)\n",
    "\n",
    "# DataLoader can be used to create batches of tensors\n",
    "train_loader = torch.utils.data.DataLoader(dataset=train_dataset, batch_size=64, shuffle=True)\n",
    "test_loader = torch.utils.data.DataLoader(dataset=test_dataset, batch_size=64, shuffle=False)"
   ]
  },
  {
   "cell_type": "code",
   "execution_count": null,
   "metadata": {},
   "outputs": [],
   "source": []
  },
  {
   "cell_type": "code",
   "execution_count": 286,
   "metadata": {},
   "outputs": [
    {
     "name": "stdout",
     "output_type": "stream",
     "text": [
      "Image batch dimensions: torch.Size([10, 1, 28, 28])\n",
      "Label batch dimensions: torch.Size([10])\n"
     ]
    }
   ],
   "source": [
    "images, labels = next(iter(train_loader))\n",
    "print(f'Image batch dimensions: {images.shape}')\n",
    "print(f'Label batch dimensions: {labels.shape}')\n",
    "\n"
   ]
  },
  {
   "cell_type": "code",
   "execution_count": 287,
   "metadata": {},
   "outputs": [
    {
     "data": {
      "text/plain": [
       "<matplotlib.image.AxesImage at 0x1805eb920>"
      ]
     },
     "execution_count": 287,
     "metadata": {},
     "output_type": "execute_result"
    },
    {
     "data": {
      "image/png": "[encoded data removed]",
      "text/plain": [
       "<Figure size 640x480 with 1 Axes>"
      ]
     },
     "metadata": {},
     "output_type": "display_data"
    }
   ],
   "source": [
    "plt.imshow(images[0].squeeze(), cmap='gray')"
   ]
  },
  {
   "cell_type": "code",
   "execution_count": 288,
   "metadata": {},
   "outputs": [
    {
     "name": "stdout",
     "output_type": "stream",
     "text": [
      "tensor([[[0.0000, 0.0000, 0.0000, 0.0000, 0.0000, 0.0000, 0.0000, 0.0000,\n",
      "          0.0000, 0.0000, 0.0000, 0.0000, 0.0000, 0.0000, 0.0000, 0.0000,\n",
      "          0.0000, 0.0000, 0.0000, 0.0000, 0.0000, 0.0000, 0.0000, 0.0000,\n",
      "          0.0000, 0.0000, 0.0000, 0.0000],\n",
      "         [0.0000, 0.0000, 0.0000, 0.0000, 0.0000, 0.0000, 0.0000, 0.0000,\n",
      "          0.0000, 0.0000, 0.0000, 0.0000, 0.0000, 0.0000, 0.0000, 0.0000,\n",
      "          0.0000, 0.0000, 0.0000, 0.0000, 0.0000, 0.0000, 0.0000, 0.0000,\n",
      "          0.0000, 0.0000, 0.0000, 0.0000],\n",
      "         [0.0000, 0.0000, 0.0000, 0.0000, 0.0000, 0.0000, 0.0000, 0.0000,\n",
      "          0.0000, 0.0000, 0.0000, 0.0000, 0.0000, 0.0000, 0.0000, 0.0000,\n",
      "          0.0000, 0.0000, 0.0000, 0.0000, 0.0000, 0.0000, 0.0000, 0.0000,\n",
      "          0.0000, 0.0000, 0.0000, 0.0000],\n",
      "         [0.0000, 0.0000, 0.0000, 0.0000, 0.0000, 0.0000, 0.0000, 0.0000,\n",
      "          0.0000, 0.0000, 0.0000, 0.0000, 0.0000, 0.0000, 0.0000, 0.0000,\n",
      "          0.0000, 0.0000, 0.0000, 0.0000, 0.0000, 0.0000, 0.0000, 0.0000,\n",
      "          0.0000, 0.0000, 0.0000, 0.0000],\n",
      "         [0.0000, 0.0000, 0.0000, 0.0000, 0.0000, 0.0000, 0.0000, 0.0000,\n",
      "          0.0000, 0.0000, 0.0000, 0.0000, 0.0000, 0.0000, 0.0000, 0.0000,\n",
      "          0.0000, 0.0000, 0.0000, 0.0000, 0.0000, 0.0000, 0.0000, 0.0000,\n",
      "          0.0000, 0.0000, 0.0000, 0.0000],\n",
      "         [0.0000, 0.0000, 0.0000, 0.0000, 0.0000, 0.0000, 0.0000, 0.0000,\n",
      "          0.0000, 0.0000, 0.0000, 0.0000, 0.1176, 0.1490, 0.1490, 0.4863,\n",
      "          0.5725, 0.4745, 0.1490, 0.1333, 0.8627, 1.0000, 0.3294, 0.0000,\n",
      "          0.0000, 0.0000, 0.0000, 0.0000],\n",
      "         [0.0000, 0.0000, 0.0000, 0.0000, 0.0000, 0.0000, 0.0000, 0.0000,\n",
      "          0.0000, 0.2235, 0.6784, 0.7216, 0.9294, 0.9922, 0.9922, 0.9922,\n",
      "          0.9922, 0.9922, 0.9922, 0.8784, 0.9922, 0.9922, 0.9216, 0.3098,\n",
      "          0.0000, 0.0000, 0.0000, 0.0000],\n",
      "         [0.0000, 0.0000, 0.0000, 0.0000, 0.0000, 0.0000, 0.0000, 0.0000,\n",
      "          0.1529, 0.9608, 0.9922, 0.9922, 0.9922, 0.9922, 0.9922, 0.9922,\n",
      "          0.9922, 0.9922, 0.9922, 0.9922, 0.9922, 0.9922, 0.8667, 0.0000,\n",
      "          0.0000, 0.0000, 0.0000, 0.0000],\n",
      "         [0.0000, 0.0000, 0.0000, 0.0000, 0.0000, 0.0000, 0.0000, 0.0000,\n",
      "          0.1725, 0.9922, 0.9922, 0.9922, 0.9922, 0.9922, 0.9569, 0.8235,\n",
      "          0.9098, 0.9922, 0.9922, 0.9922, 0.9922, 0.9922, 0.5373, 0.0000,\n",
      "          0.0000, 0.0000, 0.0000, 0.0000],\n",
      "         [0.0000, 0.0000, 0.0000, 0.0000, 0.0000, 0.0000, 0.0000, 0.0000,\n",
      "          0.1725, 0.9922, 0.9922, 0.9333, 0.5294, 0.2549, 0.2000, 0.0000,\n",
      "          0.6431, 0.9922, 0.9922, 0.9922, 0.9922, 0.6902, 0.0078, 0.0000,\n",
      "          0.0000, 0.0000, 0.0000, 0.0000],\n",
      "         [0.0000, 0.0000, 0.0000, 0.0000, 0.0000, 0.0000, 0.0000, 0.0000,\n",
      "          0.1725, 0.9922, 0.9922, 0.4235, 0.0000, 0.0000, 0.0118, 0.7137,\n",
      "          0.9882, 0.9922, 0.9922, 0.9882, 0.5529, 0.0627, 0.0000, 0.0000,\n",
      "          0.0000, 0.0000, 0.0000, 0.0000],\n",
      "         [0.0000, 0.0000, 0.0000, 0.0000, 0.0000, 0.0000, 0.0000, 0.0000,\n",
      "          0.1412, 0.9451, 0.9922, 0.6784, 0.1294, 0.1216, 0.6941, 0.9922,\n",
      "          0.9922, 0.9922, 0.9922, 0.5412, 0.0000, 0.0000, 0.0000, 0.0000,\n",
      "          0.0000, 0.0000, 0.0000, 0.0000],\n",
      "         [0.0000, 0.0000, 0.0000, 0.0000, 0.0000, 0.0000, 0.0000, 0.0000,\n",
      "          0.0000, 0.3098, 0.9608, 0.9922, 0.9137, 0.8784, 0.9922, 0.9922,\n",
      "          0.9922, 0.9922, 0.7176, 0.0275, 0.0000, 0.0000, 0.0000, 0.0000,\n",
      "          0.0000, 0.0000, 0.0000, 0.0000],\n",
      "         [0.0000, 0.0000, 0.0000, 0.0000, 0.0000, 0.0000, 0.0000, 0.0000,\n",
      "          0.0000, 0.0000, 0.1686, 0.9922, 0.9922, 0.9922, 0.9922, 0.9922,\n",
      "          0.9529, 0.2275, 0.0157, 0.0000, 0.0000, 0.0000, 0.0000, 0.0000,\n",
      "          0.0000, 0.0000, 0.0000, 0.0000],\n",
      "         [0.0000, 0.0000, 0.0000, 0.0000, 0.0000, 0.0000, 0.0000, 0.0000,\n",
      "          0.0000, 0.0000, 0.8902, 0.9922, 0.9922, 0.9922, 0.9922, 0.9922,\n",
      "          0.6353, 0.0000, 0.0000, 0.0000, 0.0000, 0.0000, 0.0000, 0.0000,\n",
      "          0.0000, 0.0000, 0.0000, 0.0000],\n",
      "         [0.0000, 0.0000, 0.0000, 0.0000, 0.0000, 0.0000, 0.0000, 0.0000,\n",
      "          0.0627, 0.6784, 0.9725, 0.9922, 0.9922, 0.9922, 0.9922, 0.9922,\n",
      "          0.8863, 0.4235, 0.0000, 0.0000, 0.0000, 0.0000, 0.0000, 0.0000,\n",
      "          0.0000, 0.0000, 0.0000, 0.0000],\n",
      "         [0.0000, 0.0000, 0.0000, 0.0000, 0.0000, 0.0000, 0.0000, 0.2314,\n",
      "          0.7725, 0.9922, 0.9922, 0.9922, 0.9647, 0.6980, 0.4863, 0.8510,\n",
      "          0.9922, 0.9804, 0.4275, 0.0039, 0.0000, 0.0000, 0.0000, 0.0000,\n",
      "          0.0000, 0.0000, 0.0000, 0.0000],\n",
      "         [0.0000, 0.0000, 0.0000, 0.0000, 0.0000, 0.0000, 0.0000, 0.7255,\n",
      "          0.9922, 0.9922, 0.9922, 0.9490, 0.3216, 0.0000, 0.0000, 0.1255,\n",
      "          0.6706, 0.9922, 0.9922, 0.0392, 0.0000, 0.0000, 0.0000, 0.0000,\n",
      "          0.0000, 0.0000, 0.0000, 0.0000],\n",
      "         [0.0000, 0.0000, 0.0000, 0.0000, 0.0000, 0.0000, 0.2431, 0.9686,\n",
      "          0.9922, 0.9922, 0.9765, 0.3137, 0.0000, 0.0000, 0.0000, 0.0000,\n",
      "          0.0980, 0.7216, 0.9922, 0.5451, 0.0000, 0.0000, 0.0000, 0.0000,\n",
      "          0.0000, 0.0000, 0.0000, 0.0000],\n",
      "         [0.0000, 0.0000, 0.0000, 0.0000, 0.0000, 0.0000, 0.7059, 0.9922,\n",
      "          0.9922, 0.9608, 0.1255, 0.0000, 0.0000, 0.0000, 0.0000, 0.0000,\n",
      "          0.2745, 0.8353, 0.9922, 0.9451, 0.1686, 0.0000, 0.0000, 0.0000,\n",
      "          0.0000, 0.0000, 0.0000, 0.0000],\n",
      "         [0.0000, 0.0000, 0.0000, 0.0000, 0.0000, 0.0000, 0.3569, 0.9608,\n",
      "          0.9922, 0.7569, 0.0275, 0.0000, 0.0000, 0.0000, 0.0000, 0.3569,\n",
      "          0.8392, 0.9922, 0.9922, 0.9216, 0.1020, 0.0000, 0.0000, 0.0000,\n",
      "          0.0000, 0.0000, 0.0000, 0.0000],\n",
      "         [0.0000, 0.0000, 0.0000, 0.0000, 0.0000, 0.0000, 0.0000, 0.6980,\n",
      "          0.9922, 0.9922, 0.6275, 0.0000, 0.0000, 0.3725, 0.6745, 0.9608,\n",
      "          0.9922, 0.9922, 0.9922, 0.5412, 0.0000, 0.0000, 0.0000, 0.0000,\n",
      "          0.0000, 0.0000, 0.0000, 0.0000],\n",
      "         [0.0000, 0.0000, 0.0000, 0.0000, 0.0000, 0.0000, 0.0000, 0.2000,\n",
      "          0.7176, 0.9922, 0.9922, 0.9765, 0.9765, 0.9922, 0.9922, 0.9922,\n",
      "          0.9922, 0.9647, 0.5216, 0.0196, 0.0000, 0.0000, 0.0000, 0.0000,\n",
      "          0.0000, 0.0000, 0.0000, 0.0000],\n",
      "         [0.0000, 0.0000, 0.0000, 0.0000, 0.0000, 0.0000, 0.0000, 0.0000,\n",
      "          0.0510, 0.6980, 0.9922, 0.9922, 0.9922, 0.9922, 0.9922, 0.9922,\n",
      "          0.8510, 0.3686, 0.0000, 0.0000, 0.0000, 0.0000, 0.0000, 0.0000,\n",
      "          0.0000, 0.0000, 0.0000, 0.0000],\n",
      "         [0.0000, 0.0000, 0.0000, 0.0000, 0.0000, 0.0000, 0.0000, 0.0000,\n",
      "          0.0000, 0.0471, 0.5255, 0.8314, 0.9922, 0.9922, 0.7216, 0.4157,\n",
      "          0.0706, 0.0000, 0.0000, 0.0000, 0.0000, 0.0000, 0.0000, 0.0000,\n",
      "          0.0000, 0.0000, 0.0000, 0.0000],\n",
      "         [0.0000, 0.0000, 0.0000, 0.0000, 0.0000, 0.0000, 0.0000, 0.0000,\n",
      "          0.0000, 0.0000, 0.0000, 0.0000, 0.0000, 0.0000, 0.0000, 0.0000,\n",
      "          0.0000, 0.0000, 0.0000, 0.0000, 0.0000, 0.0000, 0.0000, 0.0000,\n",
      "          0.0000, 0.0000, 0.0000, 0.0000],\n",
      "         [0.0000, 0.0000, 0.0000, 0.0000, 0.0000, 0.0000, 0.0000, 0.0000,\n",
      "          0.0000, 0.0000, 0.0000, 0.0000, 0.0000, 0.0000, 0.0000, 0.0000,\n",
      "          0.0000, 0.0000, 0.0000, 0.0000, 0.0000, 0.0000, 0.0000, 0.0000,\n",
      "          0.0000, 0.0000, 0.0000, 0.0000],\n",
      "         [0.0000, 0.0000, 0.0000, 0.0000, 0.0000, 0.0000, 0.0000, 0.0000,\n",
      "          0.0000, 0.0000, 0.0000, 0.0000, 0.0000, 0.0000, 0.0000, 0.0000,\n",
      "          0.0000, 0.0000, 0.0000, 0.0000, 0.0000, 0.0000, 0.0000, 0.0000,\n",
      "          0.0000, 0.0000, 0.0000, 0.0000]]])\n"
     ]
    }
   ],
   "source": [
    "print(images[0].view(images[0].size(), -1))"
   ]
  },
  {
   "cell_type": "markdown",
   "metadata": {},
   "source": [
    "## Regular auto-enocoder\n"
   ]
  },
  {
   "cell_type": "code",
   "execution_count": 4,
   "metadata": {},
   "outputs": [],
   "source": [
    "class AE(nn.Module):\n",
    "    def __init__(self, input_dim, hidden_dim, encode_dim):\n",
    "        super().__init__()\n",
    "\n",
    "        self.encoder = nn.Sequential(\n",
    "                nn.Linear(input_dim, hidden_dim),\n",
    "                nn.ReLU(),\n",
    "                nn.Linear(hidden_dim, encode_dim)\n",
    "        )\n",
    "\n",
    "        self.decoder = nn.Sequential(\n",
    "                nn.Linear(encode_dim, hidden_dim),\n",
    "                nn.ReLU(),\n",
    "                nn.Linear(hidden_dim, input_dim)\n",
    "        )\n",
    "   \n",
    "\n",
    "\n",
    "    def forward(self, x, **kwargs):\n",
    "        #x = [Batch size, height, width]\n",
    "        batch_size = x.shape[0]\n",
    "\n",
    "        #batch size, h * w\n",
    "        x = x.view(batch_size, -1)\n",
    "        encode = self.encoder(x)\n",
    "        # print(f'encoder output shape = {encode.shape}')\n",
    "        decode = self.decoder(encode)\n",
    "        # print(f'decoder output shape = {decode.shape}')\n",
    "        return decode\n"
   ]
  },
  {
   "cell_type": "code",
   "execution_count": 5,
   "metadata": {},
   "outputs": [],
   "source": [
    "INPUT_DIM = 28 * 28\n",
    "HIDDEN_DIM = 150\n",
    "ENCODE_DIM = 5\n",
    "\n",
    "model = AE(INPUT_DIM, HIDDEN_DIM, ENCODE_DIM)"
   ]
  },
  {
   "cell_type": "code",
   "execution_count": 6,
   "metadata": {},
   "outputs": [
    {
     "name": "stdout",
     "output_type": "stream",
     "text": [
      "237789\n"
     ]
    }
   ],
   "source": [
    "def count_parameters(model):\n",
    "    return sum(p.numel() for p in model.parameters() if p.requires_grad)\n",
    "\n",
    "print(count_parameters(model))"
   ]
  },
  {
   "cell_type": "code",
   "execution_count": 7,
   "metadata": {},
   "outputs": [
    {
     "name": "stdout",
     "output_type": "stream",
     "text": [
      "tensor([[0.0017, 0.0013, 0.0011, 0.0013, 0.0012, 0.0011, 0.0013, 0.0009, 0.0013,\n",
      "         0.0014, 0.0012, 0.0012, 0.0012, 0.0014, 0.0013, 0.0014, 0.0013, 0.0014,\n",
      "         0.0011, 0.0016, 0.0013, 0.0011, 0.0010, 0.0013, 0.0012, 0.0016, 0.0011,\n",
      "         0.0014, 0.0013, 0.0012, 0.0014, 0.0012, 0.0013, 0.0013, 0.0011, 0.0011,\n",
      "         0.0015, 0.0011, 0.0013, 0.0013, 0.0012, 0.0010, 0.0014, 0.0013, 0.0012,\n",
      "         0.0014, 0.0013, 0.0013, 0.0013, 0.0015, 0.0013, 0.0012, 0.0013, 0.0011,\n",
      "         0.0012, 0.0011, 0.0012, 0.0013, 0.0010, 0.0011, 0.0011, 0.0014, 0.0012,\n",
      "         0.0012, 0.0013, 0.0011, 0.0015, 0.0013, 0.0015, 0.0010, 0.0017, 0.0015,\n",
      "         0.0011, 0.0012, 0.0013, 0.0011, 0.0014, 0.0012, 0.0013, 0.0011, 0.0012,\n",
      "         0.0014, 0.0012, 0.0015, 0.0011, 0.0014, 0.0014, 0.0016, 0.0011, 0.0015,\n",
      "         0.0012, 0.0013, 0.0011, 0.0011, 0.0015, 0.0010, 0.0010, 0.0014, 0.0014,\n",
      "         0.0013, 0.0014, 0.0010, 0.0012, 0.0012, 0.0016, 0.0012, 0.0013, 0.0013,\n",
      "         0.0012, 0.0011, 0.0011, 0.0010, 0.0011, 0.0015, 0.0013, 0.0014, 0.0011,\n",
      "         0.0012, 0.0013, 0.0011, 0.0014, 0.0011, 0.0013, 0.0010, 0.0012, 0.0012,\n",
      "         0.0015, 0.0014, 0.0011, 0.0011, 0.0013, 0.0011, 0.0010, 0.0013, 0.0011,\n",
      "         0.0011, 0.0013, 0.0013, 0.0013, 0.0012, 0.0014, 0.0015, 0.0013, 0.0012,\n",
      "         0.0014, 0.0015, 0.0012, 0.0010, 0.0014, 0.0012, 0.0011, 0.0012, 0.0012,\n",
      "         0.0014, 0.0011, 0.0015, 0.0012, 0.0013, 0.0011, 0.0014, 0.0010, 0.0013,\n",
      "         0.0010, 0.0014, 0.0014, 0.0015, 0.0013, 0.0014, 0.0011, 0.0014, 0.0013,\n",
      "         0.0013, 0.0013, 0.0011, 0.0013, 0.0013, 0.0011, 0.0013, 0.0012, 0.0013,\n",
      "         0.0013, 0.0012, 0.0012, 0.0012, 0.0013, 0.0012, 0.0013, 0.0012, 0.0012,\n",
      "         0.0011, 0.0011, 0.0013, 0.0015, 0.0014, 0.0015, 0.0013, 0.0013, 0.0011,\n",
      "         0.0014, 0.0016, 0.0011, 0.0012, 0.0013, 0.0014, 0.0013, 0.0013, 0.0010,\n",
      "         0.0014, 0.0014, 0.0012, 0.0013, 0.0013, 0.0012, 0.0012, 0.0012, 0.0013,\n",
      "         0.0013, 0.0015, 0.0010, 0.0012, 0.0014, 0.0014, 0.0013, 0.0012, 0.0012,\n",
      "         0.0013, 0.0013, 0.0012, 0.0012, 0.0014, 0.0011, 0.0012, 0.0015, 0.0014,\n",
      "         0.0012, 0.0016, 0.0013, 0.0013, 0.0014, 0.0013, 0.0012, 0.0011, 0.0013,\n",
      "         0.0013, 0.0013, 0.0012, 0.0014, 0.0015, 0.0012, 0.0010, 0.0014, 0.0011,\n",
      "         0.0013, 0.0011, 0.0012, 0.0012, 0.0013, 0.0012, 0.0013, 0.0013, 0.0016,\n",
      "         0.0011, 0.0013, 0.0011, 0.0014, 0.0010, 0.0015, 0.0013, 0.0015, 0.0012,\n",
      "         0.0014, 0.0013, 0.0013, 0.0012, 0.0013, 0.0010, 0.0013, 0.0012, 0.0013,\n",
      "         0.0012, 0.0012, 0.0013, 0.0013, 0.0012, 0.0014, 0.0011, 0.0014, 0.0015,\n",
      "         0.0014, 0.0010, 0.0012, 0.0012, 0.0015, 0.0013, 0.0012, 0.0013, 0.0015,\n",
      "         0.0015, 0.0014, 0.0012, 0.0013, 0.0012, 0.0015, 0.0012, 0.0014, 0.0012,\n",
      "         0.0013, 0.0014, 0.0012, 0.0013, 0.0012, 0.0015, 0.0015, 0.0012, 0.0016,\n",
      "         0.0011, 0.0012, 0.0011, 0.0012, 0.0011, 0.0012, 0.0013, 0.0012, 0.0013,\n",
      "         0.0012, 0.0017, 0.0012, 0.0011, 0.0013, 0.0015, 0.0015, 0.0013, 0.0012,\n",
      "         0.0012, 0.0012, 0.0012, 0.0013, 0.0011, 0.0010, 0.0015, 0.0012, 0.0011,\n",
      "         0.0013, 0.0012, 0.0014, 0.0012, 0.0012, 0.0013, 0.0012, 0.0014, 0.0011,\n",
      "         0.0015, 0.0011, 0.0015, 0.0013, 0.0014, 0.0014, 0.0013, 0.0012, 0.0014,\n",
      "         0.0010, 0.0014, 0.0014, 0.0015, 0.0010, 0.0011, 0.0015, 0.0013, 0.0011,\n",
      "         0.0016, 0.0013, 0.0013, 0.0012, 0.0014, 0.0011, 0.0010, 0.0014, 0.0013,\n",
      "         0.0013, 0.0012, 0.0016, 0.0012, 0.0015, 0.0012, 0.0015, 0.0013, 0.0011,\n",
      "         0.0014, 0.0012, 0.0011, 0.0012, 0.0012, 0.0011, 0.0015, 0.0011, 0.0013,\n",
      "         0.0015, 0.0012, 0.0013, 0.0012, 0.0014, 0.0014, 0.0013, 0.0012, 0.0017,\n",
      "         0.0010, 0.0013, 0.0013, 0.0013, 0.0010, 0.0013, 0.0014, 0.0014, 0.0013,\n",
      "         0.0011, 0.0014, 0.0011, 0.0012, 0.0014, 0.0011, 0.0013, 0.0014, 0.0016,\n",
      "         0.0015, 0.0014, 0.0013, 0.0016, 0.0013, 0.0014, 0.0012, 0.0012, 0.0013,\n",
      "         0.0016, 0.0011, 0.0017, 0.0014, 0.0011, 0.0012, 0.0013, 0.0014, 0.0016,\n",
      "         0.0014, 0.0010, 0.0013, 0.0012, 0.0015, 0.0011, 0.0015, 0.0010, 0.0013,\n",
      "         0.0013, 0.0011, 0.0012, 0.0014, 0.0013, 0.0011, 0.0013, 0.0013, 0.0011,\n",
      "         0.0013, 0.0015, 0.0012, 0.0012, 0.0016, 0.0012, 0.0010, 0.0011, 0.0013,\n",
      "         0.0012, 0.0014, 0.0011, 0.0013, 0.0012, 0.0014, 0.0011, 0.0013, 0.0014,\n",
      "         0.0013, 0.0016, 0.0011, 0.0013, 0.0015, 0.0012, 0.0013, 0.0014, 0.0011,\n",
      "         0.0011, 0.0011, 0.0012, 0.0012, 0.0013, 0.0014, 0.0015, 0.0011, 0.0017,\n",
      "         0.0016, 0.0013, 0.0013, 0.0012, 0.0013, 0.0010, 0.0014, 0.0013, 0.0013,\n",
      "         0.0012, 0.0012, 0.0014, 0.0011, 0.0011, 0.0014, 0.0011, 0.0011, 0.0013,\n",
      "         0.0014, 0.0012, 0.0012, 0.0014, 0.0013, 0.0013, 0.0011, 0.0013, 0.0014,\n",
      "         0.0013, 0.0011, 0.0013, 0.0014, 0.0011, 0.0012, 0.0013, 0.0014, 0.0015,\n",
      "         0.0012, 0.0016, 0.0015, 0.0012, 0.0014, 0.0015, 0.0012, 0.0014, 0.0013,\n",
      "         0.0013, 0.0014, 0.0012, 0.0009, 0.0013, 0.0013, 0.0014, 0.0012, 0.0011,\n",
      "         0.0013, 0.0011, 0.0012, 0.0017, 0.0013, 0.0013, 0.0012, 0.0011, 0.0011,\n",
      "         0.0013, 0.0011, 0.0011, 0.0017, 0.0012, 0.0012, 0.0012, 0.0014, 0.0012,\n",
      "         0.0014, 0.0012, 0.0012, 0.0012, 0.0011, 0.0016, 0.0013, 0.0015, 0.0009,\n",
      "         0.0012, 0.0015, 0.0014, 0.0013, 0.0015, 0.0017, 0.0013, 0.0013, 0.0013,\n",
      "         0.0013, 0.0018, 0.0013, 0.0013, 0.0011, 0.0014, 0.0013, 0.0014, 0.0012,\n",
      "         0.0014, 0.0012, 0.0011, 0.0013, 0.0012, 0.0012, 0.0013, 0.0013, 0.0011,\n",
      "         0.0010, 0.0012, 0.0015, 0.0012, 0.0013, 0.0014, 0.0012, 0.0012, 0.0012,\n",
      "         0.0014, 0.0013, 0.0013, 0.0013, 0.0014, 0.0013, 0.0014, 0.0012, 0.0011,\n",
      "         0.0013, 0.0009, 0.0014, 0.0012, 0.0011, 0.0012, 0.0012, 0.0015, 0.0012,\n",
      "         0.0013, 0.0013, 0.0015, 0.0013, 0.0014, 0.0012, 0.0013, 0.0010, 0.0011,\n",
      "         0.0013, 0.0013, 0.0015, 0.0013, 0.0013, 0.0013, 0.0011, 0.0012, 0.0012,\n",
      "         0.0015, 0.0013, 0.0014, 0.0013, 0.0012, 0.0014, 0.0013, 0.0015, 0.0012,\n",
      "         0.0013, 0.0011, 0.0014, 0.0012, 0.0012, 0.0013, 0.0012, 0.0013, 0.0014,\n",
      "         0.0014, 0.0012, 0.0012, 0.0012, 0.0013, 0.0013, 0.0012, 0.0016, 0.0012,\n",
      "         0.0010, 0.0011, 0.0013, 0.0010, 0.0013, 0.0011, 0.0012, 0.0012, 0.0015,\n",
      "         0.0014, 0.0011, 0.0012, 0.0012, 0.0010, 0.0012, 0.0013, 0.0013, 0.0011,\n",
      "         0.0012, 0.0015, 0.0012, 0.0013, 0.0012, 0.0013, 0.0012, 0.0015, 0.0011,\n",
      "         0.0014, 0.0012, 0.0014, 0.0013, 0.0012, 0.0015, 0.0014, 0.0012, 0.0014,\n",
      "         0.0012, 0.0012, 0.0015, 0.0012, 0.0010, 0.0014, 0.0013, 0.0012, 0.0016,\n",
      "         0.0014, 0.0011, 0.0012, 0.0012, 0.0011, 0.0013, 0.0012, 0.0014, 0.0012,\n",
      "         0.0010, 0.0010, 0.0010, 0.0011, 0.0014, 0.0013, 0.0013, 0.0014, 0.0015,\n",
      "         0.0011, 0.0013, 0.0013, 0.0012, 0.0012, 0.0012, 0.0011, 0.0011, 0.0013,\n",
      "         0.0014, 0.0012, 0.0015, 0.0012, 0.0012, 0.0011, 0.0010, 0.0015, 0.0011,\n",
      "         0.0012, 0.0015, 0.0016, 0.0013, 0.0014, 0.0014, 0.0016, 0.0013, 0.0014,\n",
      "         0.0012, 0.0012, 0.0015, 0.0011, 0.0014, 0.0012, 0.0013, 0.0012, 0.0012,\n",
      "         0.0013, 0.0014, 0.0013, 0.0012, 0.0011, 0.0016, 0.0015, 0.0011, 0.0013,\n",
      "         0.0013]], grad_fn=<SoftmaxBackward0>)\n"
     ]
    }
   ],
   "source": [
    "images, labels = next(iter(train_loader))\n",
    "\n",
    "output = model(images[1])\n",
    "logits = F.softmax(output, dim=1)\n",
    "\n",
    "prediction = torch.argmax(logits, dim=1)\n",
    "\n",
    "print(logits)"
   ]
  },
  {
   "cell_type": "code",
   "execution_count": 8,
   "metadata": {},
   "outputs": [
    {
     "name": "stdout",
     "output_type": "stream",
     "text": [
      "Epoch [1/50], Loss: 0.0844\n",
      "Epoch [2/50], Loss: 0.0660\n"
     ]
    },
    {
     "ename": "KeyboardInterrupt",
     "evalue": "",
     "output_type": "error",
     "traceback": [
      "\u001b[0;31m---------------------------------------------------------------------------\u001b[0m",
      "\u001b[0;31mKeyboardInterrupt\u001b[0m                         Traceback (most recent call last)",
      "Cell \u001b[0;32mIn[8], line 15\u001b[0m\n\u001b[1;32m     11\u001b[0m optimizer\u001b[38;5;241m.\u001b[39mzero_grad()  \u001b[38;5;66;03m# Clear gradients from the previous step\u001b[39;00m\n\u001b[1;32m     13\u001b[0m \u001b[38;5;66;03m# print(data.shape)\u001b[39;00m\n\u001b[1;32m     14\u001b[0m \u001b[38;5;66;03m# Forward pass: compute the model output\u001b[39;00m\n\u001b[0;32m---> 15\u001b[0m output \u001b[38;5;241m=\u001b[39m \u001b[43mmodel\u001b[49m\u001b[43m(\u001b[49m\u001b[43mdata\u001b[49m\u001b[43m)\u001b[49m\n\u001b[1;32m     17\u001b[0m \u001b[38;5;66;03m# if output.shape[0] != 64:\u001b[39;00m\n\u001b[1;32m     18\u001b[0m \u001b[38;5;66;03m#     print(f'batch dim is not 64 for idx {batch_idx}')\u001b[39;00m\n\u001b[1;32m     19\u001b[0m \u001b[38;5;66;03m# Calculate the loss\u001b[39;00m\n\u001b[1;32m     20\u001b[0m lossi \u001b[38;5;241m=\u001b[39m loss(output, data\u001b[38;5;241m.\u001b[39mview(output\u001b[38;5;241m.\u001b[39mshape)) \n",
      "File \u001b[0;32m~/anaconda3/envs/ML/lib/python3.12/site-packages/torch/nn/modules/module.py:1532\u001b[0m, in \u001b[0;36mModule._wrapped_call_impl\u001b[0;34m(self, *args, **kwargs)\u001b[0m\n\u001b[1;32m   1530\u001b[0m     \u001b[38;5;28;01mreturn\u001b[39;00m \u001b[38;5;28mself\u001b[39m\u001b[38;5;241m.\u001b[39m_compiled_call_impl(\u001b[38;5;241m*\u001b[39margs, \u001b[38;5;241m*\u001b[39m\u001b[38;5;241m*\u001b[39mkwargs)  \u001b[38;5;66;03m# type: ignore[misc]\u001b[39;00m\n\u001b[1;32m   1531\u001b[0m \u001b[38;5;28;01melse\u001b[39;00m:\n\u001b[0;32m-> 1532\u001b[0m     \u001b[38;5;28;01mreturn\u001b[39;00m \u001b[38;5;28;43mself\u001b[39;49m\u001b[38;5;241;43m.\u001b[39;49m\u001b[43m_call_impl\u001b[49m\u001b[43m(\u001b[49m\u001b[38;5;241;43m*\u001b[39;49m\u001b[43margs\u001b[49m\u001b[43m,\u001b[49m\u001b[43m \u001b[49m\u001b[38;5;241;43m*\u001b[39;49m\u001b[38;5;241;43m*\u001b[39;49m\u001b[43mkwargs\u001b[49m\u001b[43m)\u001b[49m\n",
      "File \u001b[0;32m~/anaconda3/envs/ML/lib/python3.12/site-packages/torch/nn/modules/module.py:1541\u001b[0m, in \u001b[0;36mModule._call_impl\u001b[0;34m(self, *args, **kwargs)\u001b[0m\n\u001b[1;32m   1536\u001b[0m \u001b[38;5;66;03m# If we don't have any hooks, we want to skip the rest of the logic in\u001b[39;00m\n\u001b[1;32m   1537\u001b[0m \u001b[38;5;66;03m# this function, and just call forward.\u001b[39;00m\n\u001b[1;32m   1538\u001b[0m \u001b[38;5;28;01mif\u001b[39;00m \u001b[38;5;129;01mnot\u001b[39;00m (\u001b[38;5;28mself\u001b[39m\u001b[38;5;241m.\u001b[39m_backward_hooks \u001b[38;5;129;01mor\u001b[39;00m \u001b[38;5;28mself\u001b[39m\u001b[38;5;241m.\u001b[39m_backward_pre_hooks \u001b[38;5;129;01mor\u001b[39;00m \u001b[38;5;28mself\u001b[39m\u001b[38;5;241m.\u001b[39m_forward_hooks \u001b[38;5;129;01mor\u001b[39;00m \u001b[38;5;28mself\u001b[39m\u001b[38;5;241m.\u001b[39m_forward_pre_hooks\n\u001b[1;32m   1539\u001b[0m         \u001b[38;5;129;01mor\u001b[39;00m _global_backward_pre_hooks \u001b[38;5;129;01mor\u001b[39;00m _global_backward_hooks\n\u001b[1;32m   1540\u001b[0m         \u001b[38;5;129;01mor\u001b[39;00m _global_forward_hooks \u001b[38;5;129;01mor\u001b[39;00m _global_forward_pre_hooks):\n\u001b[0;32m-> 1541\u001b[0m     \u001b[38;5;28;01mreturn\u001b[39;00m \u001b[43mforward_call\u001b[49m\u001b[43m(\u001b[49m\u001b[38;5;241;43m*\u001b[39;49m\u001b[43margs\u001b[49m\u001b[43m,\u001b[49m\u001b[43m \u001b[49m\u001b[38;5;241;43m*\u001b[39;49m\u001b[38;5;241;43m*\u001b[39;49m\u001b[43mkwargs\u001b[49m\u001b[43m)\u001b[49m\n\u001b[1;32m   1543\u001b[0m \u001b[38;5;28;01mtry\u001b[39;00m:\n\u001b[1;32m   1544\u001b[0m     result \u001b[38;5;241m=\u001b[39m \u001b[38;5;28;01mNone\u001b[39;00m\n",
      "Cell \u001b[0;32mIn[4], line 27\u001b[0m, in \u001b[0;36mAE.forward\u001b[0;34m(self, x, **kwargs)\u001b[0m\n\u001b[1;32m     25\u001b[0m \u001b[38;5;66;03m#batch size, h * w\u001b[39;00m\n\u001b[1;32m     26\u001b[0m x \u001b[38;5;241m=\u001b[39m x\u001b[38;5;241m.\u001b[39mview(batch_size, \u001b[38;5;241m-\u001b[39m\u001b[38;5;241m1\u001b[39m)\n\u001b[0;32m---> 27\u001b[0m encode \u001b[38;5;241m=\u001b[39m \u001b[38;5;28;43mself\u001b[39;49m\u001b[38;5;241;43m.\u001b[39;49m\u001b[43mencoder\u001b[49m\u001b[43m(\u001b[49m\u001b[43mx\u001b[49m\u001b[43m)\u001b[49m\n\u001b[1;32m     28\u001b[0m \u001b[38;5;66;03m# print(f'encoder output shape = {encode.shape}')\u001b[39;00m\n\u001b[1;32m     29\u001b[0m decode \u001b[38;5;241m=\u001b[39m \u001b[38;5;28mself\u001b[39m\u001b[38;5;241m.\u001b[39mdecoder(encode)\n",
      "File \u001b[0;32m~/anaconda3/envs/ML/lib/python3.12/site-packages/torch/nn/modules/module.py:1532\u001b[0m, in \u001b[0;36mModule._wrapped_call_impl\u001b[0;34m(self, *args, **kwargs)\u001b[0m\n\u001b[1;32m   1530\u001b[0m     \u001b[38;5;28;01mreturn\u001b[39;00m \u001b[38;5;28mself\u001b[39m\u001b[38;5;241m.\u001b[39m_compiled_call_impl(\u001b[38;5;241m*\u001b[39margs, \u001b[38;5;241m*\u001b[39m\u001b[38;5;241m*\u001b[39mkwargs)  \u001b[38;5;66;03m# type: ignore[misc]\u001b[39;00m\n\u001b[1;32m   1531\u001b[0m \u001b[38;5;28;01melse\u001b[39;00m:\n\u001b[0;32m-> 1532\u001b[0m     \u001b[38;5;28;01mreturn\u001b[39;00m \u001b[38;5;28;43mself\u001b[39;49m\u001b[38;5;241;43m.\u001b[39;49m\u001b[43m_call_impl\u001b[49m\u001b[43m(\u001b[49m\u001b[38;5;241;43m*\u001b[39;49m\u001b[43margs\u001b[49m\u001b[43m,\u001b[49m\u001b[43m \u001b[49m\u001b[38;5;241;43m*\u001b[39;49m\u001b[38;5;241;43m*\u001b[39;49m\u001b[43mkwargs\u001b[49m\u001b[43m)\u001b[49m\n",
      "File \u001b[0;32m~/anaconda3/envs/ML/lib/python3.12/site-packages/torch/nn/modules/module.py:1541\u001b[0m, in \u001b[0;36mModule._call_impl\u001b[0;34m(self, *args, **kwargs)\u001b[0m\n\u001b[1;32m   1536\u001b[0m \u001b[38;5;66;03m# If we don't have any hooks, we want to skip the rest of the logic in\u001b[39;00m\n\u001b[1;32m   1537\u001b[0m \u001b[38;5;66;03m# this function, and just call forward.\u001b[39;00m\n\u001b[1;32m   1538\u001b[0m \u001b[38;5;28;01mif\u001b[39;00m \u001b[38;5;129;01mnot\u001b[39;00m (\u001b[38;5;28mself\u001b[39m\u001b[38;5;241m.\u001b[39m_backward_hooks \u001b[38;5;129;01mor\u001b[39;00m \u001b[38;5;28mself\u001b[39m\u001b[38;5;241m.\u001b[39m_backward_pre_hooks \u001b[38;5;129;01mor\u001b[39;00m \u001b[38;5;28mself\u001b[39m\u001b[38;5;241m.\u001b[39m_forward_hooks \u001b[38;5;129;01mor\u001b[39;00m \u001b[38;5;28mself\u001b[39m\u001b[38;5;241m.\u001b[39m_forward_pre_hooks\n\u001b[1;32m   1539\u001b[0m         \u001b[38;5;129;01mor\u001b[39;00m _global_backward_pre_hooks \u001b[38;5;129;01mor\u001b[39;00m _global_backward_hooks\n\u001b[1;32m   1540\u001b[0m         \u001b[38;5;129;01mor\u001b[39;00m _global_forward_hooks \u001b[38;5;129;01mor\u001b[39;00m _global_forward_pre_hooks):\n\u001b[0;32m-> 1541\u001b[0m     \u001b[38;5;28;01mreturn\u001b[39;00m \u001b[43mforward_call\u001b[49m\u001b[43m(\u001b[49m\u001b[38;5;241;43m*\u001b[39;49m\u001b[43margs\u001b[49m\u001b[43m,\u001b[49m\u001b[43m \u001b[49m\u001b[38;5;241;43m*\u001b[39;49m\u001b[38;5;241;43m*\u001b[39;49m\u001b[43mkwargs\u001b[49m\u001b[43m)\u001b[49m\n\u001b[1;32m   1543\u001b[0m \u001b[38;5;28;01mtry\u001b[39;00m:\n\u001b[1;32m   1544\u001b[0m     result \u001b[38;5;241m=\u001b[39m \u001b[38;5;28;01mNone\u001b[39;00m\n",
      "File \u001b[0;32m~/anaconda3/envs/ML/lib/python3.12/site-packages/torch/nn/modules/container.py:217\u001b[0m, in \u001b[0;36mSequential.forward\u001b[0;34m(self, input)\u001b[0m\n\u001b[1;32m    215\u001b[0m \u001b[38;5;28;01mdef\u001b[39;00m \u001b[38;5;21mforward\u001b[39m(\u001b[38;5;28mself\u001b[39m, \u001b[38;5;28minput\u001b[39m):\n\u001b[1;32m    216\u001b[0m     \u001b[38;5;28;01mfor\u001b[39;00m module \u001b[38;5;129;01min\u001b[39;00m \u001b[38;5;28mself\u001b[39m:\n\u001b[0;32m--> 217\u001b[0m         \u001b[38;5;28minput\u001b[39m \u001b[38;5;241m=\u001b[39m \u001b[43mmodule\u001b[49m\u001b[43m(\u001b[49m\u001b[38;5;28;43minput\u001b[39;49m\u001b[43m)\u001b[49m\n\u001b[1;32m    218\u001b[0m     \u001b[38;5;28;01mreturn\u001b[39;00m \u001b[38;5;28minput\u001b[39m\n",
      "File \u001b[0;32m~/anaconda3/envs/ML/lib/python3.12/site-packages/torch/nn/modules/module.py:1532\u001b[0m, in \u001b[0;36mModule._wrapped_call_impl\u001b[0;34m(self, *args, **kwargs)\u001b[0m\n\u001b[1;32m   1530\u001b[0m     \u001b[38;5;28;01mreturn\u001b[39;00m \u001b[38;5;28mself\u001b[39m\u001b[38;5;241m.\u001b[39m_compiled_call_impl(\u001b[38;5;241m*\u001b[39margs, \u001b[38;5;241m*\u001b[39m\u001b[38;5;241m*\u001b[39mkwargs)  \u001b[38;5;66;03m# type: ignore[misc]\u001b[39;00m\n\u001b[1;32m   1531\u001b[0m \u001b[38;5;28;01melse\u001b[39;00m:\n\u001b[0;32m-> 1532\u001b[0m     \u001b[38;5;28;01mreturn\u001b[39;00m \u001b[38;5;28;43mself\u001b[39;49m\u001b[38;5;241;43m.\u001b[39;49m\u001b[43m_call_impl\u001b[49m\u001b[43m(\u001b[49m\u001b[38;5;241;43m*\u001b[39;49m\u001b[43margs\u001b[49m\u001b[43m,\u001b[49m\u001b[43m \u001b[49m\u001b[38;5;241;43m*\u001b[39;49m\u001b[38;5;241;43m*\u001b[39;49m\u001b[43mkwargs\u001b[49m\u001b[43m)\u001b[49m\n",
      "File \u001b[0;32m~/anaconda3/envs/ML/lib/python3.12/site-packages/torch/nn/modules/module.py:1541\u001b[0m, in \u001b[0;36mModule._call_impl\u001b[0;34m(self, *args, **kwargs)\u001b[0m\n\u001b[1;32m   1536\u001b[0m \u001b[38;5;66;03m# If we don't have any hooks, we want to skip the rest of the logic in\u001b[39;00m\n\u001b[1;32m   1537\u001b[0m \u001b[38;5;66;03m# this function, and just call forward.\u001b[39;00m\n\u001b[1;32m   1538\u001b[0m \u001b[38;5;28;01mif\u001b[39;00m \u001b[38;5;129;01mnot\u001b[39;00m (\u001b[38;5;28mself\u001b[39m\u001b[38;5;241m.\u001b[39m_backward_hooks \u001b[38;5;129;01mor\u001b[39;00m \u001b[38;5;28mself\u001b[39m\u001b[38;5;241m.\u001b[39m_backward_pre_hooks \u001b[38;5;129;01mor\u001b[39;00m \u001b[38;5;28mself\u001b[39m\u001b[38;5;241m.\u001b[39m_forward_hooks \u001b[38;5;129;01mor\u001b[39;00m \u001b[38;5;28mself\u001b[39m\u001b[38;5;241m.\u001b[39m_forward_pre_hooks\n\u001b[1;32m   1539\u001b[0m         \u001b[38;5;129;01mor\u001b[39;00m _global_backward_pre_hooks \u001b[38;5;129;01mor\u001b[39;00m _global_backward_hooks\n\u001b[1;32m   1540\u001b[0m         \u001b[38;5;129;01mor\u001b[39;00m _global_forward_hooks \u001b[38;5;129;01mor\u001b[39;00m _global_forward_pre_hooks):\n\u001b[0;32m-> 1541\u001b[0m     \u001b[38;5;28;01mreturn\u001b[39;00m \u001b[43mforward_call\u001b[49m\u001b[43m(\u001b[49m\u001b[38;5;241;43m*\u001b[39;49m\u001b[43margs\u001b[49m\u001b[43m,\u001b[49m\u001b[43m \u001b[49m\u001b[38;5;241;43m*\u001b[39;49m\u001b[38;5;241;43m*\u001b[39;49m\u001b[43mkwargs\u001b[49m\u001b[43m)\u001b[49m\n\u001b[1;32m   1543\u001b[0m \u001b[38;5;28;01mtry\u001b[39;00m:\n\u001b[1;32m   1544\u001b[0m     result \u001b[38;5;241m=\u001b[39m \u001b[38;5;28;01mNone\u001b[39;00m\n",
      "File \u001b[0;32m~/anaconda3/envs/ML/lib/python3.12/site-packages/torch/nn/modules/linear.py:116\u001b[0m, in \u001b[0;36mLinear.forward\u001b[0;34m(self, input)\u001b[0m\n\u001b[1;32m    115\u001b[0m \u001b[38;5;28;01mdef\u001b[39;00m \u001b[38;5;21mforward\u001b[39m(\u001b[38;5;28mself\u001b[39m, \u001b[38;5;28minput\u001b[39m: Tensor) \u001b[38;5;241m-\u001b[39m\u001b[38;5;241m>\u001b[39m Tensor:\n\u001b[0;32m--> 116\u001b[0m     \u001b[38;5;28;01mreturn\u001b[39;00m F\u001b[38;5;241m.\u001b[39mlinear(\u001b[38;5;28minput\u001b[39m, \u001b[38;5;28mself\u001b[39m\u001b[38;5;241m.\u001b[39mweight, \u001b[38;5;28;43mself\u001b[39;49m\u001b[38;5;241;43m.\u001b[39;49m\u001b[43mbias\u001b[49m)\n",
      "File \u001b[0;32m~/anaconda3/envs/ML/lib/python3.12/site-packages/torch/nn/modules/module.py:1696\u001b[0m, in \u001b[0;36mModule.__getattr__\u001b[0;34m(self, name)\u001b[0m\n\u001b[1;32m   1687\u001b[0m         \u001b[38;5;28mself\u001b[39m\u001b[38;5;241m.\u001b[39m_backward_pre_hooks \u001b[38;5;241m=\u001b[39m OrderedDict()\n\u001b[1;32m   1689\u001b[0m \u001b[38;5;66;03m# On the return type:\u001b[39;00m\n\u001b[1;32m   1690\u001b[0m \u001b[38;5;66;03m# We choose to return `Any` in the `__getattr__` type signature instead of a more strict `Union[Tensor, Module]`.\u001b[39;00m\n\u001b[1;32m   1691\u001b[0m \u001b[38;5;66;03m# This is done for better interop with various type checkers for the end users.\u001b[39;00m\n\u001b[0;32m   (...)\u001b[0m\n\u001b[1;32m   1694\u001b[0m \u001b[38;5;66;03m# See full discussion on the problems with returning `Union` here\u001b[39;00m\n\u001b[1;32m   1695\u001b[0m \u001b[38;5;66;03m# https://github.com/microsoft/pyright/issues/4213\u001b[39;00m\n\u001b[0;32m-> 1696\u001b[0m \u001b[38;5;28;01mdef\u001b[39;00m \u001b[38;5;21m__getattr__\u001b[39m(\u001b[38;5;28mself\u001b[39m, name: \u001b[38;5;28mstr\u001b[39m) \u001b[38;5;241m-\u001b[39m\u001b[38;5;241m>\u001b[39m Any:\n\u001b[1;32m   1697\u001b[0m     \u001b[38;5;28;01mif\u001b[39;00m \u001b[38;5;124m'\u001b[39m\u001b[38;5;124m_parameters\u001b[39m\u001b[38;5;124m'\u001b[39m \u001b[38;5;129;01min\u001b[39;00m \u001b[38;5;28mself\u001b[39m\u001b[38;5;241m.\u001b[39m\u001b[38;5;18m__dict__\u001b[39m:\n\u001b[1;32m   1698\u001b[0m         _parameters \u001b[38;5;241m=\u001b[39m \u001b[38;5;28mself\u001b[39m\u001b[38;5;241m.\u001b[39m\u001b[38;5;18m__dict__\u001b[39m[\u001b[38;5;124m'\u001b[39m\u001b[38;5;124m_parameters\u001b[39m\u001b[38;5;124m'\u001b[39m]\n",
      "\u001b[0;31mKeyboardInterrupt\u001b[0m: "
     ]
    }
   ],
   "source": [
    "EPOCHS = 50\n",
    "optimizer = torch.optim.SGD(model.parameters(), lr=0.01, momentum=0.9)\n",
    "loss = nn.MSELoss()\n",
    "\n",
    "\n",
    "for epoch in range(EPOCHS):\n",
    "    model.train()  # Set model to training mode\n",
    "    running_loss = 0.0\n",
    "\n",
    "    for batch_idx, (data, target) in enumerate(train_loader):\n",
    "        optimizer.zero_grad()  # Clear gradients from the previous step\n",
    "\n",
    "        # print(data.shape)\n",
    "        # Forward pass: compute the model output\n",
    "        output = model(data)\n",
    "\n",
    "        # if output.shape[0] != 64:\n",
    "        #     print(f'batch dim is not 64 for idx {batch_idx}')\n",
    "        # Calculate the loss\n",
    "        lossi = loss(output, data.view(output.shape)) \n",
    "\n",
    "        # Backward pass: compute gradients\n",
    "        lossi.backward()\n",
    "\n",
    "        # Update the model parameters\n",
    "        optimizer.step()\n",
    "\n",
    "        running_loss += lossi.item()\n",
    "\n",
    "    # Print epoch summary\n",
    "    print(f\"Epoch [{epoch + 1}/{EPOCHS}], Loss: {running_loss / len(train_loader):.4f}\")\n",
    "\n",
    "print(\"Training finished.\")"
   ]
  },
  {
   "cell_type": "code",
   "execution_count": 8,
   "metadata": {},
   "outputs": [
    {
     "ename": "NameError",
     "evalue": "name 'model' is not defined",
     "output_type": "error",
     "traceback": [
      "\u001b[0;31m---------------------------------------------------------------------------\u001b[0m",
      "\u001b[0;31mNameError\u001b[0m                                 Traceback (most recent call last)",
      "Cell \u001b[0;32mIn[8], line 3\u001b[0m\n\u001b[1;32m      1\u001b[0m images, labels \u001b[38;5;241m=\u001b[39m \u001b[38;5;28mnext\u001b[39m(\u001b[38;5;28miter\u001b[39m(test_loader))\n\u001b[0;32m----> 3\u001b[0m \u001b[43mmodel\u001b[49m\u001b[38;5;241m.\u001b[39meval()\n\u001b[1;32m      4\u001b[0m \u001b[38;5;28;01mwith\u001b[39;00m torch\u001b[38;5;241m.\u001b[39mno_grad():\n\u001b[1;32m      5\u001b[0m     output \u001b[38;5;241m=\u001b[39m model(images[\u001b[38;5;241m12\u001b[39m])\n",
      "\u001b[0;31mNameError\u001b[0m: name 'model' is not defined"
     ]
    }
   ],
   "source": [
    "images, labels = next(iter(test_loader))\n",
    "\n",
    "model.eval()\n",
    "with torch.no_grad():\n",
    "    output = model(images[12])\n",
    "logits = F.softmax(output)\n",
    "\n",
    "print(logits.shape)\n",
    "logits = logits.squeeze()\n",
    "logits = logits.view(28,28)\n",
    "\n",
    "plt.imshow(logits)\n",
    "\n",
    "print(prediction)"
   ]
  },
  {
   "cell_type": "code",
   "execution_count": null,
   "metadata": {},
   "outputs": [],
   "source": [
    "plt.imshow(images[12].squeeze())"
   ]
  },
  {
   "cell_type": "markdown",
   "metadata": {},
   "source": [
    "## Variational Auto-Encoder\n",
    "\n",
    "Algorithm 1 Minibatch version of the Auto-Encoding VB (AEVB) algorithm. Either of the two\n",
    "SGVB estimators in section 2.3 can be used. We use settings M = 100 and L= 1 in experiments.\n",
    "θ,φ ←Initialize parameters\n",
    "repeat\n",
    "    XM ←Random minibatch of M datapoints (drawn from full dataset)\n",
    "    ϵ ←Random samples from noise distribution p(ϵ)\n",
    "    g ←∇θ,φLM(θ,φ; XM\n",
    "    ,ϵ) (Gradients of minibatch estimator (8))\n",
    "    θ,φ ←Update parameters using gradients g (e.g. SGD or Adagrad [DHS10])\n",
    "until convergence of parameters (θ,φ)\n",
    "return θ,φ"
   ]
  },
  {
   "cell_type": "code",
   "execution_count": 510,
   "metadata": {},
   "outputs": [],
   "source": [
    "class VAE(nn.Module):\n",
    "    def __init__(self, input_dim, hidden_dim, latent_dim):\n",
    "        super().__init__()\n",
    "        self.input_dim = input_dim\n",
    "        self.hidden_dim = hidden_dim\n",
    "        self.latent_dim = latent_dim\n",
    "        self.encoder = nn.Sequential(\n",
    "                nn.Linear(self.input_dim, self.hidden_dim),\n",
    "                nn.LeakyReLU(0.2),\n",
    "                nn.Linear(self.hidden_dim, self.hidden_dim),\n",
    "                nn.LeakyReLU(0.2),\n",
    "        )\n",
    "\n",
    "        self.mu_mlp = nn.Linear(self.hidden_dim, self.latent_dim)\n",
    "        self.var_mlp = nn.Linear(self.hidden_dim, self.latent_dim)\n",
    "\n",
    "        self.decoder = nn.Sequential(\n",
    "                nn.Linear(self.latent_dim, self.hidden_dim),\n",
    "                nn.LeakyReLU(0.2),\n",
    "                nn.Linear(self.hidden_dim, self.hidden_dim),\n",
    "                nn.LeakyReLU(0.2),\n",
    "                nn.Linear(self.hidden_dim, self.input_dim),\n",
    "                nn.Sigmoid()\n",
    "        )\n",
    "\n",
    "    def forward(self, x):\n",
    "        #x = [Batch size, height, width]\n",
    "        batch_size = x.shape[0]\n",
    "\n",
    "        #batch size, h * w\n",
    "        x = x.view(batch_size, self.input_dim)\n",
    "        encoding = self.encode(x)\n",
    "        mu, log_var = encoding\n",
    "        decoded = self.decode(*encoding)\n",
    "        # print(f'decoded shape: {decoded.shape}')\n",
    "        \n",
    "        return decoded, mu, log_var\n",
    "\n",
    "    def encode(self, input):\n",
    "        encoding = self.encoder(input)\n",
    "        mu = self.mu_mlp(encoding)\n",
    "        log_var = self.var_mlp(encoding)\n",
    "\n",
    "        return mu, log_var\n",
    "\n",
    "    def decode(self, mu, log_var):\n",
    "        z = self.reparameterize(mu, log_var)\n",
    "        z = z.view(-1, self.latent_dim)\n",
    "        # print(f'z shape: {z.shape}')\n",
    "        decoding = self.decoder(z)\n",
    "        \n",
    "        return decoding\n",
    "    \n",
    "    def reparameterize(self, mu, log_var):\n",
    "        # Reparameterization trick:\n",
    "        # let z ~= q_psi(z|x)\n",
    "        # reparamterize z = g_psi(x, epsilon)\n",
    "        # z = mu_i + sig_i * epsilon\n",
    "        sig = torch.exp(log_var * 0.5)\n",
    "        # print(sig)\n",
    "        \n",
    "        epsilon = torch.randn_like(sig)  # Random noise from a standard normal distribution.\n",
    "        z = mu + torch.mul(sig, epsilon)\n",
    "\n",
    "        return z\n",
    "    \n",
    "    def loss_function(self, output, target, mu, log_var, epoch):\n",
    "        #here is the bread and butter\n",
    "        #were looking to optimize mu and sigma\n",
    "        #L ~= 1/2*sum(1 + log(sig^2)) - (mu)^2 - (sig)^2) + 1/L * sum(log(p_theta(x|z)))\n",
    "        # the second term is a a gaussian MLP \n",
    "            # in this case p_theta(x|z) = gaussian(mu, sig^2)\n",
    "\n",
    "        # recon_loss = torch.mean((output - target)**2)\n",
    "        recon_loss = F.binary_cross_entropy(output, target, reduction='sum')\n",
    "\n",
    "        # print(f'mse loss: {mse_loss}')\n",
    "        # print(f'pytorch mse: {F.mse_loss(output, target)}')\n",
    "        # KL_div = torch.mean(-0.5 * torch.sum(1 + log_var - mu**2 - torch.exp(log_var), dim=1), dim = 0)\n",
    "        KL_div = -0.5 * torch.sum(1 + log_var - mu**2 - torch.exp(log_var))\n",
    "\n",
    "        # print(f'kl div: {KL_div}')\n",
    "        beta = 4.0\n",
    "        kl_weight = min(1.0, epoch / 20.0)  # Gradually increase beta over the first 10 epochs\n",
    "        kl_effective = beta * KL_div\n",
    "        loss = kl_effective + recon_loss\n",
    "        \n",
    "\n",
    "        return loss, kl_effective, recon_loss\n",
    "\n",
    "    def sample(self):\n",
    "\n",
    "\n",
    "        sampled_z = torch.randn(self.latent_dim)\n",
    "\n",
    "        sampled_images = self.decoder(sampled_z)\n",
    "\n",
    "        return sampled_images\n",
    "\n",
    "\n",
    "\n"
   ]
  },
  {
   "cell_type": "code",
   "execution_count": 511,
   "metadata": {},
   "outputs": [],
   "source": [
    "INPUT_DIM = 28 * 28\n",
    "HIDDEN_DIM = 400\n",
    "LATENT_DIM = 50\n",
    "\n",
    "model = VAE(INPUT_DIM, HIDDEN_DIM, ENCODE_DIM)"
   ]
  },
  {
   "cell_type": "code",
   "execution_count": 512,
   "metadata": {},
   "outputs": [],
   "source": [
    "train_loss = []\n",
    "val_loss = []\n",
    "kl_loss = []\n",
    "reconstruct_loss = []"
   ]
  },
  {
   "cell_type": "code",
   "execution_count": 513,
   "metadata": {},
   "outputs": [
    {
     "name": "stdout",
     "output_type": "stream",
     "text": [
      "Epoch [1/30], training loss: 11453.4136, validation loss training loss: 10130.4286\n",
      "     kl div: 1150.4738960103439, reconstruction loss: 10302.939713923408\n",
      "Epoch [2/30], training loss: 10044.6145, validation loss training loss: 9781.0211\n",
      "     kl div: 1841.5341688859692, reconstruction loss: 8203.080355060634\n",
      "Epoch [3/30], training loss: 9814.7290, validation loss training loss: 9643.7333\n",
      "     kl div: 1981.4325238778902, reconstruction loss: 7833.2964364318195\n",
      "Epoch [4/30], training loss: 9679.0368, validation loss training loss: 9574.5164\n",
      "     kl div: 2073.28122696541, reconstruction loss: 7605.755586603811\n",
      "Epoch [5/30], training loss: 9590.4430, validation loss training loss: 9450.4227\n",
      "     kl div: 2134.140408709105, reconstruction loss: 7456.302605016907\n",
      "Epoch [6/30], training loss: 9518.7858, validation loss training loss: 9409.3127\n",
      "     kl div: 2177.4953130465833, reconstruction loss: 7341.29053697403\n",
      "Epoch [7/30], training loss: 9470.1894, validation loss training loss: 9345.2602\n",
      "     kl div: 2211.2649281060517, reconstruction loss: 7258.924451750733\n",
      "Epoch [8/30], training loss: 9436.3726, validation loss training loss: 9328.9298\n",
      "     kl div: 2236.0814954680422, reconstruction loss: 7200.291147325593\n",
      "Epoch [9/30], training loss: 9398.0244, validation loss training loss: 9335.0026\n",
      "     kl div: 2252.409742278077, reconstruction loss: 7145.614641201776\n",
      "Epoch [10/30], training loss: 9377.1649, validation loss training loss: 9283.3041\n",
      "     kl div: 2271.429069340102, reconstruction loss: 7105.735833597081\n",
      "Epoch [11/30], training loss: 9348.4970, validation loss training loss: 9272.8129\n",
      "     kl div: 2282.7221798113924, reconstruction loss: 7065.774827644006\n",
      "Epoch [12/30], training loss: 9327.4568, validation loss training loss: 9257.7431\n",
      "     kl div: 2294.4946303377783, reconstruction loss: 7032.962180326743\n",
      "Epoch [13/30], training loss: 9313.4908, validation loss training loss: 9231.6136\n",
      "     kl div: 2307.1275896344864, reconstruction loss: 7006.363231276652\n",
      "Epoch [14/30], training loss: 9302.8492, validation loss training loss: 9257.4210\n",
      "     kl div: 2317.1423628752163, reconstruction loss: 6985.7068933027385\n",
      "Epoch [15/30], training loss: 9288.1014, validation loss training loss: 9204.9478\n",
      "     kl div: 2322.3431363949644, reconstruction loss: 6965.758270849297\n",
      "Epoch [16/30], training loss: 9273.4421, validation loss training loss: 9237.8211\n",
      "     kl div: 2330.3637101879, reconstruction loss: 6943.078341030617\n",
      "Epoch [17/30], training loss: 9263.9566, validation loss training loss: 9212.3534\n",
      "     kl div: 2335.3528511356444, reconstruction loss: 6928.603779026186\n",
      "Epoch [18/30], training loss: 9253.5073, validation loss training loss: 9209.7047\n",
      "     kl div: 2342.7436480491656, reconstruction loss: 6910.7636786422245\n",
      "Epoch [19/30], training loss: 9245.9000, validation loss training loss: 9152.2654\n",
      "     kl div: 2344.9817350017493, reconstruction loss: 6900.918263644806\n",
      "Epoch [20/30], training loss: 9230.8873, validation loss training loss: 9166.7909\n",
      "     kl div: 2353.463674061334, reconstruction loss: 6877.423615998551\n",
      "Epoch [21/30], training loss: 9228.1665, validation loss training loss: 9157.8736\n",
      "     kl div: 2359.771105020031, reconstruction loss: 6868.39541567414\n",
      "Epoch [22/30], training loss: 9220.6878, validation loss training loss: 9149.7542\n",
      "     kl div: 2360.7663738193796, reconstruction loss: 6859.921402595699\n",
      "Epoch [23/30], training loss: 9212.9400, validation loss training loss: 9143.3867\n",
      "     kl div: 2366.5327014394406, reconstruction loss: 6846.407283823627\n",
      "Epoch [24/30], training loss: 9211.5713, validation loss training loss: 9135.1547\n",
      "     kl div: 2370.505631371602, reconstruction loss: 6841.065710527302\n",
      "Epoch [25/30], training loss: 9200.2102, validation loss training loss: 9160.7363\n",
      "     kl div: 2375.5689516372518, reconstruction loss: 6824.641282982409\n",
      "Epoch [26/30], training loss: 9201.1041, validation loss training loss: 9116.1128\n",
      "     kl div: 2379.5807199701826, reconstruction loss: 6821.523371389426\n",
      "Epoch [27/30], training loss: 9195.4247, validation loss training loss: 9149.8010\n",
      "     kl div: 2382.978466432486, reconstruction loss: 6812.44628776111\n",
      "Epoch [28/30], training loss: 9185.9001, validation loss training loss: 9144.7994\n",
      "     kl div: 2385.7060276186035, reconstruction loss: 6800.194056138809\n",
      "Epoch [29/30], training loss: 9184.1993, validation loss training loss: 9151.4172\n",
      "     kl div: 2388.3301327833487, reconstruction loss: 6795.8691338577755\n",
      "Epoch [30/30], training loss: 9177.0131, validation loss training loss: 9172.0246\n",
      "     kl div: 2389.4744964144124, reconstruction loss: 6787.538636425156\n",
      "Training finished.\n"
     ]
    }
   ],
   "source": [
    "EPOCHS = 30\n",
    "optimizer = torch.optim.AdamW(model.parameters(), lr=1e-3)\n",
    "\n",
    "# StepLR: Reduce the learning rate by gamma every 'step_size' epochs\n",
    "scheduler = torch.optim.lr_scheduler.StepLR(optimizer, step_size=20, gamma=0.1)\n",
    "\n",
    "\n",
    "\n",
    "for epoch in range(EPOCHS):\n",
    "    model.train()  # Set model to training mode\n",
    "    running_train_loss = 0.0\n",
    "    running_val_loss = 0.0\n",
    "\n",
    "    running_recon_loss = 0.0\n",
    "    running_kl_div = 0.0\n",
    "\n",
    "    for batch_idx, (train_data, train_target) in enumerate(train_loader):\n",
    "        optimizer.zero_grad()  # Clear gradients from the previous step\n",
    "\n",
    "                #x = [Batch size, height, width]\n",
    "        batch_size = train_data.shape[0]\n",
    "\n",
    "        #batch size, h * w\n",
    "        # x = train_data.view(batch_size, INPUT_DIM)\n",
    "        # print(data.shape)\n",
    "        # Forward pass: compute the model output\n",
    "        output, mu, log_var = model(train_data)\n",
    "\n",
    "        #flatten output \n",
    "        # output = output.view(batch_size, INPUT_DIM)\n",
    "        # print(output)\n",
    "        # if output.shape[0] != 64:\n",
    "        #     print(f'batch dim is not 64 for idx {batch_idx}')\n",
    "        # Calculate the loss\n",
    "        train_lossi, kl_div, recon_loss = model.loss_function(output, train_data.view(output.shape), mu, log_var, epoch) \n",
    "\n",
    "        # Backward pass: compute gradients\n",
    "        train_lossi.backward()\n",
    "\n",
    "        # # Update the model parameters\n",
    "        optimizer.step()\n",
    "\n",
    "        running_train_loss += train_lossi.item()\n",
    "        running_kl_div += kl_div.item()\n",
    "        running_recon_loss += recon_loss.item()\n",
    "\n",
    "\n",
    "    for batch_idx, (test_data, test_target) in enumerate(test_loader):\n",
    "\n",
    "        with torch.no_grad():\n",
    "            model.eval()\n",
    "\n",
    "            output, mu, log_var = model(test_data)\n",
    "            val_lossi, _, _ = model.loss_function(output, test_data.view(output.shape), mu, log_var, epoch) \n",
    "\n",
    "            running_val_loss += val_lossi.item()\n",
    "\n",
    "\n",
    "    train_loss.append(running_train_loss / len(train_loader))\n",
    "    val_loss.append(running_val_loss / len(test_loader))\n",
    "\n",
    "    kl_loss.append(running_kl_div / len(train_loader))\n",
    "    reconstruct_loss.append(running_recon_loss / len(train_loader))\n",
    "\n",
    "    # Print epoch summary\n",
    "    print(f\"Epoch [{epoch + 1}/{EPOCHS}], training loss: {running_train_loss / len(train_loader):.4f}, validation loss training loss: {running_val_loss / len(test_loader):.4f}\")\n",
    "    print(f'     kl div: {running_kl_div / len(train_loader)}, reconstruction loss: {running_recon_loss / len(train_loader)}')\n",
    "print(\"Training finished.\")"
   ]
  },
  {
   "cell_type": "code",
   "execution_count": 514,
   "metadata": {},
   "outputs": [
    {
     "data": {
      "image/png": "[encoded data removed]",
      "text/plain": [
       "<Figure size 640x480 with 1 Axes>"
      ]
     },
     "metadata": {},
     "output_type": "display_data"
    }
   ],
   "source": [
    "plt.figure()\n",
    "plt.yscale('log')\n",
    "epochs = range(1, len(train_loss)+ 1)   # Assuming one loss value per epoch\n",
    "\n",
    "# Plotting the training and validation loss\n",
    "plt.plot(epochs, train_loss, label='Training Loss')\n",
    "plt.plot(epochs, val_loss, label='Validation Loss')\n",
    "\n",
    "# Adding labels and title\n",
    "plt.xlabel('Epochs')\n",
    "plt.ylabel('Loss')\n",
    "plt.title('Training and Validation Loss')\n",
    "plt.legend()\n",
    "\n",
    "# Display the plot\n",
    "plt.show()"
   ]
  },
  {
   "cell_type": "code",
   "execution_count": 515,
   "metadata": {},
   "outputs": [
    {
     "data": {
      "image/png": "[encoded data removed]",
      "text/plain": [
       "<Figure size 640x480 with 1 Axes>"
      ]
     },
     "metadata": {},
     "output_type": "display_data"
    }
   ],
   "source": [
    "plt.figure()\n",
    "plt.yscale('log')\n",
    "epochs = range(1, len(train_loss)+ 1)   # Assuming one loss value per epoch\n",
    "\n",
    "# Plotting the training and validation loss\n",
    "plt.plot(epochs, kl_loss, label='kl Loss')\n",
    "plt.plot(epochs, reconstruct_loss, label='recon Loss')\n",
    "\n",
    "# Adding labels and title\n",
    "plt.xlabel('Epochs')\n",
    "plt.ylabel('Loss')\n",
    "plt.title('kl div and reconstruction Loss')\n",
    "plt.legend()\n",
    "\n",
    "# Display the plot\n",
    "plt.show()"
   ]
  },
  {
   "cell_type": "code",
   "execution_count": 517,
   "metadata": {},
   "outputs": [
    {
     "data": {
      "text/plain": [
       "<matplotlib.image.AxesImage at 0x19ff62540>"
      ]
     },
     "execution_count": 517,
     "metadata": {},
     "output_type": "execute_result"
    },
    {
     "data": {
      "image/png": "[encoded data removed]",
      "text/plain": [
       "<Figure size 640x480 with 1 Axes>"
      ]
     },
     "metadata": {},
     "output_type": "display_data"
    }
   ],
   "source": [
    "images, labels = next(iter(test_loader))\n",
    "\n",
    "model.eval()\n",
    "with torch.no_grad():\n",
    "    output, mu, sig = model(images)\n",
    "\n",
    "\n",
    "# logits = F.softmax(output)\n",
    "logits = output\n",
    "\n",
    "logits = logits.view(-1,28,28)\n",
    "\n",
    "plt.imshow(logits[4])\n",
    "\n",
    "\n"
   ]
  },
  {
   "cell_type": "code",
   "execution_count": 559,
   "metadata": {},
   "outputs": [
    {
     "data": {
      "text/plain": [
       "<matplotlib.image.AxesImage at 0x17eefa4b0>"
      ]
     },
     "execution_count": 559,
     "metadata": {},
     "output_type": "execute_result"
    },
    {
     "data": {
      "image/png": "[encoded data removed]",
      "text/plain": [
       "<Figure size 640x480 with 1 Axes>"
      ]
     },
     "metadata": {},
     "output_type": "display_data"
    }
   ],
   "source": [
    "model.eval()\n",
    "with torch.no_grad():\n",
    "    sample = model.sample()\n",
    "    \n",
    "sample = sample.view(28,28)\n",
    "\n",
    "plt.imshow(sample)"
   ]
  },
  {
   "cell_type": "code",
   "execution_count": null,
   "metadata": {},
   "outputs": [],
   "source": []
  },
  {
   "cell_type": "code",
   "execution_count": null,
   "metadata": {},
   "outputs": [],
   "source": []
  },
  {
   "cell_type": "code",
   "execution_count": null,
   "metadata": {},
   "outputs": [],
   "source": []
  }
 ],
 "metadata": {
  "kernelspec": {
   "display_name": "ML",
   "language": "python",
   "name": "python3"
  },
  "language_info": {
   "codemirror_mode": {
    "name": "ipython",
    "version": 3
   },
   "file_extension": ".py",
   "mimetype": "text/x-python",
   "name": "python",
   "nbconvert_exporter": "python",
   "pygments_lexer": "ipython3",
   "version": "3.12.7"
  }
 },
 "nbformat": 4,
 "nbformat_minor": 2
}
